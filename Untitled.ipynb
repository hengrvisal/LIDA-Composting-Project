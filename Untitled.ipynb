{
 "cells": [
  {
   "cell_type": "code",
   "execution_count": 1,
   "id": "8d534cff-eda2-441a-8b93-58439df88fc4",
   "metadata": {},
   "outputs": [],
   "source": [
    "import pandas as pd\n",
    "\n",
    "DF_PATH = 'dataset_ready_for_train.csv'\n",
    "df = pd.read_csv(DF_PATH)"
   ]
  },
  {
   "cell_type": "code",
   "execution_count": 4,
   "id": "a9c97d2a-5613-4563-b78c-8206e0b9106d",
   "metadata": {},
   "outputs": [
    {
     "data": {
      "text/html": [
       "<div>\n",
       "<style scoped>\n",
       "    .dataframe tbody tr th:only-of-type {\n",
       "        vertical-align: middle;\n",
       "    }\n",
       "\n",
       "    .dataframe tbody tr th {\n",
       "        vertical-align: top;\n",
       "    }\n",
       "\n",
       "    .dataframe thead th {\n",
       "        text-align: right;\n",
       "    }\n",
       "</style>\n",
       "<table border=\"1\" class=\"dataframe\">\n",
       "  <thead>\n",
       "    <tr style=\"text-align: right;\">\n",
       "      <th></th>\n",
       "      <th>moisture_active1</th>\n",
       "      <th>moisture_active2</th>\n",
       "      <th>oxygen</th>\n",
       "      <th>lid</th>\n",
       "      <th>co2</th>\n",
       "      <th>time_stamp</th>\n",
       "      <th>device_id</th>\n",
       "      <th>temperature_curing1</th>\n",
       "      <th>temperature_curing2</th>\n",
       "      <th>moisture_curing1</th>\n",
       "      <th>moisture_curing2</th>\n",
       "      <th>automation_active</th>\n",
       "      <th>methane</th>\n",
       "      <th>temperature_active1</th>\n",
       "      <th>temperature_active2</th>\n",
       "      <th>temperature_active3</th>\n",
       "      <th>temperature_active4</th>\n",
       "      <th>overheat</th>\n",
       "      <th>aeration_duration</th>\n",
       "      <th>agitation_duration</th>\n",
       "    </tr>\n",
       "  </thead>\n",
       "  <tbody>\n",
       "    <tr>\n",
       "      <th>0</th>\n",
       "      <td>14</td>\n",
       "      <td>15</td>\n",
       "      <td>10.429501</td>\n",
       "      <td>open</td>\n",
       "      <td>6473</td>\n",
       "      <td>28/06/2024 18:03</td>\n",
       "      <td>YJWCHg</td>\n",
       "      <td>0</td>\n",
       "      <td>0</td>\n",
       "      <td>134</td>\n",
       "      <td>14</td>\n",
       "      <td>False</td>\n",
       "      <td>965</td>\n",
       "      <td>15</td>\n",
       "      <td>15</td>\n",
       "      <td>25</td>\n",
       "      <td>14</td>\n",
       "      <td>False</td>\n",
       "      <td>0</td>\n",
       "      <td>0</td>\n",
       "    </tr>\n",
       "    <tr>\n",
       "      <th>1</th>\n",
       "      <td>15</td>\n",
       "      <td>17</td>\n",
       "      <td>11.406513</td>\n",
       "      <td>open</td>\n",
       "      <td>6429</td>\n",
       "      <td>28/06/2024 18:03</td>\n",
       "      <td>YJWCHg</td>\n",
       "      <td>0</td>\n",
       "      <td>0</td>\n",
       "      <td>68</td>\n",
       "      <td>15</td>\n",
       "      <td>False</td>\n",
       "      <td>898</td>\n",
       "      <td>14</td>\n",
       "      <td>15</td>\n",
       "      <td>15</td>\n",
       "      <td>14</td>\n",
       "      <td>False</td>\n",
       "      <td>0</td>\n",
       "      <td>0</td>\n",
       "    </tr>\n",
       "    <tr>\n",
       "      <th>2</th>\n",
       "      <td>7</td>\n",
       "      <td>15</td>\n",
       "      <td>11.895020</td>\n",
       "      <td>open</td>\n",
       "      <td>6446</td>\n",
       "      <td>28/06/2024 18:03</td>\n",
       "      <td>YJWCHg</td>\n",
       "      <td>0</td>\n",
       "      <td>0</td>\n",
       "      <td>62</td>\n",
       "      <td>13</td>\n",
       "      <td>False</td>\n",
       "      <td>957</td>\n",
       "      <td>14</td>\n",
       "      <td>15</td>\n",
       "      <td>15</td>\n",
       "      <td>14</td>\n",
       "      <td>False</td>\n",
       "      <td>0</td>\n",
       "      <td>0</td>\n",
       "    </tr>\n",
       "    <tr>\n",
       "      <th>3</th>\n",
       "      <td>15</td>\n",
       "      <td>16</td>\n",
       "      <td>12.207036</td>\n",
       "      <td>open</td>\n",
       "      <td>6410</td>\n",
       "      <td>28/06/2024 18:03</td>\n",
       "      <td>YJWCHg</td>\n",
       "      <td>0</td>\n",
       "      <td>0</td>\n",
       "      <td>107</td>\n",
       "      <td>18</td>\n",
       "      <td>False</td>\n",
       "      <td>941</td>\n",
       "      <td>14</td>\n",
       "      <td>15</td>\n",
       "      <td>15</td>\n",
       "      <td>14</td>\n",
       "      <td>False</td>\n",
       "      <td>0</td>\n",
       "      <td>0</td>\n",
       "    </tr>\n",
       "    <tr>\n",
       "      <th>4</th>\n",
       "      <td>14</td>\n",
       "      <td>16</td>\n",
       "      <td>12.386153</td>\n",
       "      <td>open</td>\n",
       "      <td>6703</td>\n",
       "      <td>28/06/2024 18:03</td>\n",
       "      <td>YJWCHg</td>\n",
       "      <td>0</td>\n",
       "      <td>0</td>\n",
       "      <td>46</td>\n",
       "      <td>13</td>\n",
       "      <td>False</td>\n",
       "      <td>1012</td>\n",
       "      <td>14</td>\n",
       "      <td>15</td>\n",
       "      <td>15</td>\n",
       "      <td>14</td>\n",
       "      <td>False</td>\n",
       "      <td>0</td>\n",
       "      <td>0</td>\n",
       "    </tr>\n",
       "  </tbody>\n",
       "</table>\n",
       "</div>"
      ],
      "text/plain": [
       "   moisture_active1  moisture_active2     oxygen   lid   co2  \\\n",
       "0                14                15  10.429501  open  6473   \n",
       "1                15                17  11.406513  open  6429   \n",
       "2                 7                15  11.895020  open  6446   \n",
       "3                15                16  12.207036  open  6410   \n",
       "4                14                16  12.386153  open  6703   \n",
       "\n",
       "         time_stamp device_id  temperature_curing1  temperature_curing2  \\\n",
       "0  28/06/2024 18:03    YJWCHg                    0                    0   \n",
       "1  28/06/2024 18:03    YJWCHg                    0                    0   \n",
       "2  28/06/2024 18:03    YJWCHg                    0                    0   \n",
       "3  28/06/2024 18:03    YJWCHg                    0                    0   \n",
       "4  28/06/2024 18:03    YJWCHg                    0                    0   \n",
       "\n",
       "   moisture_curing1  moisture_curing2  automation_active  methane  \\\n",
       "0               134                14              False      965   \n",
       "1                68                15              False      898   \n",
       "2                62                13              False      957   \n",
       "3               107                18              False      941   \n",
       "4                46                13              False     1012   \n",
       "\n",
       "   temperature_active1  temperature_active2  temperature_active3  \\\n",
       "0                   15                   15                   25   \n",
       "1                   14                   15                   15   \n",
       "2                   14                   15                   15   \n",
       "3                   14                   15                   15   \n",
       "4                   14                   15                   15   \n",
       "\n",
       "   temperature_active4  overheat  aeration_duration  agitation_duration  \n",
       "0                   14     False                  0                   0  \n",
       "1                   14     False                  0                   0  \n",
       "2                   14     False                  0                   0  \n",
       "3                   14     False                  0                   0  \n",
       "4                   14     False                  0                   0  "
      ]
     },
     "execution_count": 4,
     "metadata": {},
     "output_type": "execute_result"
    }
   ],
   "source": [
    "df.head()"
   ]
  },
  {
   "cell_type": "code",
   "execution_count": 8,
   "id": "fef4f352-2829-4815-8d91-6b51734693e5",
   "metadata": {},
   "outputs": [],
   "source": [
    "temp_cols = [\n",
    "    'temperature_active1',\n",
    "    'temperature_active2',\n",
    "    'temperature_active3',\n",
    "    'temperature_active4',\n",
    "    'temperature_curing1',\n",
    "    'temperature_curing2',\n",
    "]\n",
    "\n",
    "moisture_cols = [\n",
    "    'moisture_active1',\n",
    "    'moisture_active2',\n",
    "    'moisture_curing1',\n",
    "    'moisture_curing2',\n",
    "]\n",
    "\n",
    "gas_cols = [\n",
    "    'oxygen',\n",
    "    'co2',\n",
    "]"
   ]
  },
  {
   "cell_type": "code",
   "execution_count": 10,
   "id": "748e3fa4-e304-435e-9414-747b732eeb28",
   "metadata": {},
   "outputs": [],
   "source": [
    "features = temp_cols + moisture_cols + gas_cols\n",
    "\n",
    "X = df[features].values\n",
    "y = df[['aeration_duration', 'agitation_duration']].values"
   ]
  },
  {
   "cell_type": "code",
   "execution_count": 11,
   "id": "c0e5c26d-16e8-4491-a590-5eae948c8739",
   "metadata": {},
   "outputs": [],
   "source": [
    "from sklearn.model_selection import train_test_split\n",
    "\n",
    "X_train, X_val, y_train, y_val = train_test_split(X, y, test_size=0.2, random_state=42)"
   ]
  },
  {
   "cell_type": "markdown",
   "id": "16675f72-3f73-4fef-8989-68b95b9cfa03",
   "metadata": {},
   "source": [
    "## **Embedding Model (Keras MLP)**"
   ]
  },
  {
   "cell_type": "code",
   "execution_count": 32,
   "id": "ce5ed27c-4b98-4b00-a304-bdaedecfe959",
   "metadata": {},
   "outputs": [
    {
     "name": "stdout",
     "output_type": "stream",
     "text": [
      "Epoch 1/10\n",
      "\u001b[1m4019/4019\u001b[0m \u001b[32m━━━━━━━━━━━━━━━━━━━━\u001b[0m\u001b[37m\u001b[0m \u001b[1m6s\u001b[0m 1ms/step - loss: 7654.8540 - mae: 26.3988 - val_loss: 0.0093 - val_mae: 0.0649\n",
      "Epoch 2/10\n",
      "\u001b[1m4019/4019\u001b[0m \u001b[32m━━━━━━━━━━━━━━━━━━━━\u001b[0m\u001b[37m\u001b[0m \u001b[1m3s\u001b[0m 863us/step - loss: 0.0056 - mae: 0.0553 - val_loss: 0.0026 - val_mae: 0.0179\n",
      "Epoch 3/10\n",
      "\u001b[1m4019/4019\u001b[0m \u001b[32m━━━━━━━━━━━━━━━━━━━━\u001b[0m\u001b[37m\u001b[0m \u001b[1m3s\u001b[0m 858us/step - loss: 7.8326e-04 - mae: 0.0087 - val_loss: 7.9784e-04 - val_mae: 1.5856e-04\n",
      "Epoch 4/10\n",
      "\u001b[1m4019/4019\u001b[0m \u001b[32m━━━━━━━━━━━━━━━━━━━━\u001b[0m\u001b[37m\u001b[0m \u001b[1m3s\u001b[0m 840us/step - loss: 4.7555e-05 - mae: 4.0003e-05 - val_loss: 3.8901e-04 - val_mae: 1.0364e-04\n",
      "Epoch 5/10\n",
      "\u001b[1m4019/4019\u001b[0m \u001b[32m━━━━━━━━━━━━━━━━━━━━\u001b[0m\u001b[37m\u001b[0m \u001b[1m3s\u001b[0m 846us/step - loss: 4.0630e-06 - mae: 6.9174e-06 - val_loss: 1.7601e-04 - val_mae: 6.4354e-05\n",
      "Epoch 6/10\n",
      "\u001b[1m4019/4019\u001b[0m \u001b[32m━━━━━━━━━━━━━━━━━━━━\u001b[0m\u001b[37m\u001b[0m \u001b[1m3s\u001b[0m 845us/step - loss: 1.5171e-08 - mae: 1.4450e-06 - val_loss: 2.4071e-04 - val_mae: 7.2977e-05\n",
      "Epoch 7/10\n",
      "\u001b[1m4019/4019\u001b[0m \u001b[32m━━━━━━━━━━━━━━━━━━━━\u001b[0m\u001b[37m\u001b[0m \u001b[1m3s\u001b[0m 841us/step - loss: 0.0000e+00 - mae: 2.3542e-43 - val_loss: 2.4071e-04 - val_mae: 7.2977e-05\n",
      "Epoch 8/10\n",
      "\u001b[1m4019/4019\u001b[0m \u001b[32m━━━━━━━━━━━━━━━━━━━━\u001b[0m\u001b[37m\u001b[0m \u001b[1m3s\u001b[0m 841us/step - loss: 0.0000e+00 - mae: 2.3542e-43 - val_loss: 2.4071e-04 - val_mae: 7.2977e-05\n",
      "Epoch 9/10\n",
      "\u001b[1m4019/4019\u001b[0m \u001b[32m━━━━━━━━━━━━━━━━━━━━\u001b[0m\u001b[37m\u001b[0m \u001b[1m3s\u001b[0m 838us/step - loss: 0.0000e+00 - mae: 2.3542e-43 - val_loss: 2.4071e-04 - val_mae: 7.2977e-05\n",
      "Epoch 10/10\n",
      "\u001b[1m4019/4019\u001b[0m \u001b[32m━━━━━━━━━━━━━━━━━━━━\u001b[0m\u001b[37m\u001b[0m \u001b[1m3s\u001b[0m 839us/step - loss: 0.0000e+00 - mae: 2.3542e-43 - val_loss: 2.4071e-04 - val_mae: 7.2977e-05\n"
     ]
    },
    {
     "data": {
      "text/plain": [
       "<keras.src.callbacks.history.History at 0x79acb864cef0>"
      ]
     },
     "execution_count": 32,
     "metadata": {},
     "output_type": "execute_result"
    }
   ],
   "source": [
    "import tensorflow as tf\n",
    "from tensorflow.keras import layers, models, Input\n",
    "\n",
    "input_dim = X_train.shape[1]\n",
    "embedding_dim = 8\n",
    "\n",
    "inputs = Input(shape=(X_train.shape[1],))\n",
    "x = layers.Dense(16, activation='relu')(inputs)\n",
    "embeddings = layers.Dense(embedding_dim, activation='relu', name='embedding_layer')(x)\n",
    "x = layers.Dense(4, activation='relu')(embeddings)\n",
    "outputs = layers.Dense(2)(x)\n",
    "\n",
    "model = models.Model(inputs=inputs, outputs=outputs)\n",
    "\n",
    "model.compile(optimizer='adam', loss='mse', metrics=['mae'])\n",
    "model.fit(X_train, y_train, validation_data=(X_val, y_val), epochs=10, batch_size=32)"
   ]
  },
  {
   "cell_type": "code",
   "execution_count": 33,
   "id": "45d2904f-345a-43d9-bbd3-8d2b379e425d",
   "metadata": {},
   "outputs": [
    {
     "name": "stdout",
     "output_type": "stream",
     "text": [
      "\u001b[1m4019/4019\u001b[0m \u001b[32m━━━━━━━━━━━━━━━━━━━━\u001b[0m\u001b[37m\u001b[0m \u001b[1m2s\u001b[0m 396us/step\n",
      "\u001b[1m1005/1005\u001b[0m \u001b[32m━━━━━━━━━━━━━━━━━━━━\u001b[0m\u001b[37m\u001b[0m \u001b[1m0s\u001b[0m 454us/step\n"
     ]
    }
   ],
   "source": [
    "extractor = models.Model(\n",
    "    inputs=model.input,\n",
    "    outputs=model.get_layer('embedding_layer').output\n",
    ")\n",
    "\n",
    "X_train_emb = extractor.predict(X_train)\n",
    "X_val_emb = extractor.predict(X_val)"
   ]
  },
  {
   "cell_type": "code",
   "execution_count": 34,
   "id": "3a5d86f7-b32b-40ad-950a-688d36ebd9c6",
   "metadata": {},
   "outputs": [],
   "source": [
    "from sklearn.ensemble import RandomForestRegressor\n",
    "from sklearn.multioutput import MultiOutputRegressor\n",
    "\n",
    "regressor = MultiOutputRegressor(RandomForestRegressor(n_estimators=100, random_state=42))\n",
    "regressor.fit(X_train_emb, y_train)\n",
    "\n",
    "y_pred = regressor.predict(X_val_emb)"
   ]
  },
  {
   "cell_type": "code",
   "execution_count": 35,
   "id": "69ce36fa-0e48-4e95-bc52-f2d7bb080a55",
   "metadata": {},
   "outputs": [
    {
     "name": "stdout",
     "output_type": "stream",
     "text": [
      "MAE Aeration Duration: 0.0\n",
      "MAE Agitation Duration: 0.0\n"
     ]
    }
   ],
   "source": [
    "from sklearn.metrics import mean_absolute_error\n",
    "\n",
    "print(\"MAE Aeration Duration:\", mean_absolute_error(y_val[:,0], y_pred[:,0]))\n",
    "print(\"MAE Agitation Duration:\", mean_absolute_error(y_val[:,1], y_pred[:,1]))"
   ]
  },
  {
   "cell_type": "code",
   "execution_count": null,
   "id": "a73d3d98-5c08-43ad-a49f-cbb21d51d8b0",
   "metadata": {},
   "outputs": [],
   "source": []
  }
 ],
 "metadata": {
  "kernelspec": {
   "display_name": "Python 3 (ipykernel)",
   "language": "python",
   "name": "python3"
  },
  "language_info": {
   "codemirror_mode": {
    "name": "ipython",
    "version": 3
   },
   "file_extension": ".py",
   "mimetype": "text/x-python",
   "name": "python",
   "nbconvert_exporter": "python",
   "pygments_lexer": "ipython3",
   "version": "3.12.3"
  }
 },
 "nbformat": 4,
 "nbformat_minor": 5
}
